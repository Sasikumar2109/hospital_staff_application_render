{
 "cells": [
  {
   "cell_type": "code",
   "execution_count": 5,
   "id": "eab7f5a3-29ee-4b61-b98a-b6e9cffba72a",
   "metadata": {},
   "outputs": [],
   "source": [
    "from pathlib import Path\n",
    "import os\n",
    "from dotenv import load_dotenv\n",
    "import json\n",
    "import psycopg2\n",
    "from psycopg2.extras import RealDictCursor\n",
    "\n",
    "load_dotenv()\n",
    "\n",
    "DB_PATH = Path().resolve()/ 'hospital_staff.db'\n",
    "\n",
    "machine = os.getenv(\"MACHINE\")\n",
    "db_user = os.getenv(\"DB_USER\")\n",
    "db_pw = os.getenv(\"DB_PASSWORD\")\n",
    "db_name = os.getenv(\"DB_NAME\")\n",
    "db_host = os.getenv(\"DB_HOST\")\n",
    "db_port = os.getenv(\"DB_PORT\")"
   ]
  },
  {
   "cell_type": "code",
   "execution_count": null,
   "id": "25fea2a2-1e82-475e-8135-3615ff3da888",
   "metadata": {},
   "outputs": [],
   "source": []
  },
  {
   "cell_type": "code",
   "execution_count": null,
   "id": "1cb99087-f79e-4a4a-9fe8-82fc7dff1130",
   "metadata": {},
   "outputs": [],
   "source": []
  },
  {
   "cell_type": "code",
   "execution_count": null,
   "id": "f3704beb-0e6d-41b2-8084-183c5f7513f8",
   "metadata": {},
   "outputs": [],
   "source": []
  },
  {
   "cell_type": "code",
   "execution_count": 6,
   "id": "9a558d80-6178-4ea2-8ea6-243df7050251",
   "metadata": {},
   "outputs": [],
   "source": [
    "conn = psycopg2.connect(\n",
    "    dbname = db_name,\n",
    "    user = db_user,\n",
    "    password = db_pw,\n",
    "    host = db_host,\n",
    "    port = db_port,\n",
    "    cursor_factory=RealDictCursor\n",
    ")"
   ]
  },
  {
   "cell_type": "code",
   "execution_count": 7,
   "id": "8a8f7efd-8506-43f3-a06e-9180ad1497d7",
   "metadata": {},
   "outputs": [],
   "source": [
    "#conn = get_connection()\n",
    "\n",
    "c = conn.cursor()\n",
    "\n",
    "c.execute('SELECT * FROM association_info WHERE id = 1')\n",
    "row = c.fetchall()"
   ]
  },
  {
   "cell_type": "code",
   "execution_count": 8,
   "id": "5e409d6d-3174-40cf-af6b-1e2e65f76b47",
   "metadata": {},
   "outputs": [
    {
     "data": {
      "text/plain": [
       "[RealDictRow([('id', 1),\n",
       "              ('association_name', 'MRB COVID NURSES ASSOCIATION'),\n",
       "              ('association_register_number', '58/22'),\n",
       "              ('primary_contact', '8098829924'),\n",
       "              ('secondary_contact', '9944970377'),\n",
       "              ('address',\n",
       "               '4/200, Kasathoppu, Periyankuppam, Ambur, Thirupathur, 635814'),\n",
       "              ('email', 'mrbcovidnursesassociation@gmail.com'),\n",
       "              ('terms_file_path',\n",
       "               'data/documents/terms_and_conditions/terms_and_conditions.pdf'),\n",
       "              ('last_update_by', 'mssasikumar333@gmail.com'),\n",
       "              ('last_updated_at',\n",
       "               datetime.datetime(2025, 5, 11, 14, 48, 45))])]"
      ]
     },
     "execution_count": 8,
     "metadata": {},
     "output_type": "execute_result"
    }
   ],
   "source": [
    "row"
   ]
  },
  {
   "cell_type": "code",
   "execution_count": 39,
   "id": "a5988b9d-c872-4c90-a99e-1e6ecfb5beec",
   "metadata": {},
   "outputs": [
    {
     "data": {
      "text/plain": [
       "'MRB COVID NURSES ASSOCIATION'"
      ]
     },
     "execution_count": 39,
     "metadata": {},
     "output_type": "execute_result"
    }
   ],
   "source": [
    "row[0]['association_name']"
   ]
  },
  {
   "cell_type": "code",
   "execution_count": 38,
   "id": "81ce699c-c09c-4ba5-88e9-0571cc3efaea",
   "metadata": {},
   "outputs": [
    {
     "data": {
      "text/plain": [
       "[RealDictRow([('id', 1),\n",
       "              ('association_name', 'MRB COVID NURSES ASSOCIATION'),\n",
       "              ('association_register_number', '58/22'),\n",
       "              ('primary_contact', '8098829924'),\n",
       "              ('secondary_contact', '9944970377'),\n",
       "              ('address',\n",
       "               '4/200, Kasathoppu, Periyankuppam, Ambur, Thirupathur, 635814'),\n",
       "              ('email', 'mrbcovidnursesassociation@gmail.com'),\n",
       "              ('terms_file_path', 'uploads/terms_and_conditions.pdf'),\n",
       "              ('last_update_by', 'mssasikumar333@gmail.com'),\n",
       "              ('last_updated_at', '2025-05-11 14:48:45')])]"
      ]
     },
     "execution_count": 38,
     "metadata": {},
     "output_type": "execute_result"
    }
   ],
   "source": [
    "row"
   ]
  },
  {
   "cell_type": "code",
   "execution_count": 12,
   "id": "44f3bec9-0a9a-45a9-85af-15a294b80522",
   "metadata": {},
   "outputs": [
    {
     "data": {
      "text/plain": [
       "'id'"
      ]
     },
     "execution_count": 12,
     "metadata": {},
     "output_type": "execute_result"
    }
   ],
   "source": [
    "c.description[0][0]"
   ]
  },
  {
   "cell_type": "code",
   "execution_count": null,
   "id": "d3d429a4-e2f8-41c2-86c4-a4aa1f8abdb3",
   "metadata": {},
   "outputs": [],
   "source": [
    "columns = [col[0] for col in cursor.description]\n",
    "result = [dict(zip(columns, row)) for row in rows]"
   ]
  },
  {
   "cell_type": "code",
   "execution_count": 14,
   "id": "eb06c215-1ae0-4ba9-84a1-533042be2f5b",
   "metadata": {},
   "outputs": [],
   "source": [
    "import sqlite3"
   ]
  },
  {
   "cell_type": "code",
   "execution_count": 15,
   "id": "57a0e2c9-1ef5-488c-8eb9-4dc8f8371c5b",
   "metadata": {},
   "outputs": [],
   "source": [
    "DB_PATH = Path().resolve()/'hospital_staff.db'"
   ]
  },
  {
   "cell_type": "code",
   "execution_count": 16,
   "id": "ec2dcd29-9f3a-4e61-b375-c86b09ba2048",
   "metadata": {},
   "outputs": [],
   "source": [
    "\n",
    "conn = sqlite3.connect(DB_PATH)\n",
    "conn.row_factory = sqlite3.Row"
   ]
  },
  {
   "cell_type": "code",
   "execution_count": 25,
   "id": "3561fb63-9b0c-4205-a1d6-71df8e90aea8",
   "metadata": {},
   "outputs": [],
   "source": [
    "c = conn.cursor()\n",
    "\n",
    "c.execute('SELECT * FROM association_info WHERE id = 1')\n",
    "rows = c.fetchall()"
   ]
  },
  {
   "cell_type": "code",
   "execution_count": 26,
   "id": "3e524fa1-09d8-4570-929e-fb4fed78c101",
   "metadata": {},
   "outputs": [
    {
     "data": {
      "text/plain": [
       "True"
      ]
     },
     "execution_count": 26,
     "metadata": {},
     "output_type": "execute_result"
    }
   ],
   "source": [
    "isinstance(row, list)"
   ]
  },
  {
   "cell_type": "code",
   "execution_count": 28,
   "id": "b5e8816e-e293-42d8-9f9b-7653027b8f4b",
   "metadata": {},
   "outputs": [],
   "source": [
    "res = [dict(row) for row in rows]"
   ]
  },
  {
   "cell_type": "code",
   "execution_count": 32,
   "id": "6129585d-5546-4bf3-9f72-dbef5ec74bb0",
   "metadata": {},
   "outputs": [
    {
     "data": {
      "text/plain": [
       "1"
      ]
     },
     "execution_count": 32,
     "metadata": {},
     "output_type": "execute_result"
    }
   ],
   "source": [
    "res[0]['id']"
   ]
  },
  {
   "cell_type": "code",
   "execution_count": null,
   "id": "84e57b67-654b-4efe-8a55-e8d61f16d043",
   "metadata": {},
   "outputs": [],
   "source": []
  },
  {
   "cell_type": "code",
   "execution_count": null,
   "id": "614a66de-ce79-4859-aba9-6a2d08bfbcb0",
   "metadata": {},
   "outputs": [],
   "source": []
  }
 ],
 "metadata": {
  "kernelspec": {
   "display_name": "Python 3 (ipykernel)",
   "language": "python",
   "name": "python3"
  },
  "language_info": {
   "codemirror_mode": {
    "name": "ipython",
    "version": 3
   },
   "file_extension": ".py",
   "mimetype": "text/x-python",
   "name": "python",
   "nbconvert_exporter": "python",
   "pygments_lexer": "ipython3",
   "version": "3.10.11"
  }
 },
 "nbformat": 4,
 "nbformat_minor": 5
}
